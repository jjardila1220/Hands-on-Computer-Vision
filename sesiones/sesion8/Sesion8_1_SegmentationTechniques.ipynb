{
  "nbformat": 4,
  "nbformat_minor": 0,
  "metadata": {
    "colab": {
      "provenance": []
    },
    "kernelspec": {
      "name": "python3",
      "display_name": "Python 3"
    },
    "language_info": {
      "name": "python"
    }
  },
  "cells": [
    {
      "cell_type": "markdown",
      "source": [
        "<image src=\"https://i.imgur.com/HrRxc5o.jpeg\" width=100%>"
      ],
      "metadata": {
        "id": "mRN4k5A_WtYj"
      }
    },
    {
      "cell_type": "markdown",
      "source": [
        "# <font color='#00FFFF'>**Diferentes técnicas de Segmentación**</font>"
      ],
      "metadata": {
        "id": "x0k82XBaQzDR"
      }
    },
    {
      "cell_type": "markdown",
      "source": [
        "### **Importamos librerías y dependencias**"
      ],
      "metadata": {
        "id": "rTnNuA9Ph7lZ"
      }
    },
    {
      "cell_type": "code",
      "source": [
        "import matplotlib.pyplot as plt\n",
        "import numpy as np\n",
        "import cv2\n",
        "import os"
      ],
      "metadata": {
        "id": "04gs2AftjK5R"
      },
      "execution_count": 1,
      "outputs": []
    },
    {
      "cell_type": "code",
      "source": [
        "from skimage.segmentation import felzenszwalb, slic, mark_boundaries, find_boundaries\n",
        "from sklearn.cluster import KMeans, MeanShift, estimate_bandwidth\n",
        "from skimage.util import img_as_float\n",
        "from skimage.color import rgb2gray\n",
        "from sklearn.cluster import KMeans\n",
        "from skimage.filters import sobel\n",
        "from google.colab import files\n",
        "from PIL import Image\n",
        "co=255"
      ],
      "metadata": {
        "id": "jnJn__KN8Tzk"
      },
      "execution_count": 2,
      "outputs": []
    },
    {
      "cell_type": "markdown",
      "source": [
        "### **Sube imágenes aquí para explorar los métodos**"
      ],
      "metadata": {
        "id": "NG05Abs0iBI7"
      }
    },
    {
      "cell_type": "code",
      "source": [
        "uploaded = files.upload()\n",
        "image_paths = []\n",
        "\n",
        "for fn in uploaded.keys():\n",
        "  if not os.path.exists('uploaded_images'):\n",
        "    os.makedirs('uploaded_images')\n",
        "\n",
        "  path = os.path.join('uploaded_images', fn)\n",
        "  image_paths.append(path)\n",
        "\n",
        "  with open(path, 'wb') as f:\n",
        "    f.write(uploaded[fn])\n",
        "\n",
        "  print('User uploaded file \"{name}\" with length {length} bytes and saved to {path}'.format(\n",
        "      name=fn, length=len(uploaded[fn]), path=path))"
      ],
      "metadata": {
        "id": "Sp8f00pltVdW",
        "outputId": "f2d3aee0-74f1-46e9-c025-d6b9d7b5e641",
        "colab": {
          "base_uri": "https://localhost:8080/",
          "height": 38
        }
      },
      "execution_count": null,
      "outputs": [
        {
          "output_type": "display_data",
          "data": {
            "text/plain": [
              "<IPython.core.display.HTML object>"
            ],
            "text/html": [
              "\n",
              "     <input type=\"file\" id=\"files-9a59cdf4-f830-427d-8e36-37ef5315ca75\" name=\"files[]\" multiple disabled\n",
              "        style=\"border:none\" />\n",
              "     <output id=\"result-9a59cdf4-f830-427d-8e36-37ef5315ca75\">\n",
              "      Upload widget is only available when the cell has been executed in the\n",
              "      current browser session. Please rerun this cell to enable.\n",
              "      </output>\n",
              "      <script>// Copyright 2017 Google LLC\n",
              "//\n",
              "// Licensed under the Apache License, Version 2.0 (the \"License\");\n",
              "// you may not use this file except in compliance with the License.\n",
              "// You may obtain a copy of the License at\n",
              "//\n",
              "//      http://www.apache.org/licenses/LICENSE-2.0\n",
              "//\n",
              "// Unless required by applicable law or agreed to in writing, software\n",
              "// distributed under the License is distributed on an \"AS IS\" BASIS,\n",
              "// WITHOUT WARRANTIES OR CONDITIONS OF ANY KIND, either express or implied.\n",
              "// See the License for the specific language governing permissions and\n",
              "// limitations under the License.\n",
              "\n",
              "/**\n",
              " * @fileoverview Helpers for google.colab Python module.\n",
              " */\n",
              "(function(scope) {\n",
              "function span(text, styleAttributes = {}) {\n",
              "  const element = document.createElement('span');\n",
              "  element.textContent = text;\n",
              "  for (const key of Object.keys(styleAttributes)) {\n",
              "    element.style[key] = styleAttributes[key];\n",
              "  }\n",
              "  return element;\n",
              "}\n",
              "\n",
              "// Max number of bytes which will be uploaded at a time.\n",
              "const MAX_PAYLOAD_SIZE = 100 * 1024;\n",
              "\n",
              "function _uploadFiles(inputId, outputId) {\n",
              "  const steps = uploadFilesStep(inputId, outputId);\n",
              "  const outputElement = document.getElementById(outputId);\n",
              "  // Cache steps on the outputElement to make it available for the next call\n",
              "  // to uploadFilesContinue from Python.\n",
              "  outputElement.steps = steps;\n",
              "\n",
              "  return _uploadFilesContinue(outputId);\n",
              "}\n",
              "\n",
              "// This is roughly an async generator (not supported in the browser yet),\n",
              "// where there are multiple asynchronous steps and the Python side is going\n",
              "// to poll for completion of each step.\n",
              "// This uses a Promise to block the python side on completion of each step,\n",
              "// then passes the result of the previous step as the input to the next step.\n",
              "function _uploadFilesContinue(outputId) {\n",
              "  const outputElement = document.getElementById(outputId);\n",
              "  const steps = outputElement.steps;\n",
              "\n",
              "  const next = steps.next(outputElement.lastPromiseValue);\n",
              "  return Promise.resolve(next.value.promise).then((value) => {\n",
              "    // Cache the last promise value to make it available to the next\n",
              "    // step of the generator.\n",
              "    outputElement.lastPromiseValue = value;\n",
              "    return next.value.response;\n",
              "  });\n",
              "}\n",
              "\n",
              "/**\n",
              " * Generator function which is called between each async step of the upload\n",
              " * process.\n",
              " * @param {string} inputId Element ID of the input file picker element.\n",
              " * @param {string} outputId Element ID of the output display.\n",
              " * @return {!Iterable<!Object>} Iterable of next steps.\n",
              " */\n",
              "function* uploadFilesStep(inputId, outputId) {\n",
              "  const inputElement = document.getElementById(inputId);\n",
              "  inputElement.disabled = false;\n",
              "\n",
              "  const outputElement = document.getElementById(outputId);\n",
              "  outputElement.innerHTML = '';\n",
              "\n",
              "  const pickedPromise = new Promise((resolve) => {\n",
              "    inputElement.addEventListener('change', (e) => {\n",
              "      resolve(e.target.files);\n",
              "    });\n",
              "  });\n",
              "\n",
              "  const cancel = document.createElement('button');\n",
              "  inputElement.parentElement.appendChild(cancel);\n",
              "  cancel.textContent = 'Cancel upload';\n",
              "  const cancelPromise = new Promise((resolve) => {\n",
              "    cancel.onclick = () => {\n",
              "      resolve(null);\n",
              "    };\n",
              "  });\n",
              "\n",
              "  // Wait for the user to pick the files.\n",
              "  const files = yield {\n",
              "    promise: Promise.race([pickedPromise, cancelPromise]),\n",
              "    response: {\n",
              "      action: 'starting',\n",
              "    }\n",
              "  };\n",
              "\n",
              "  cancel.remove();\n",
              "\n",
              "  // Disable the input element since further picks are not allowed.\n",
              "  inputElement.disabled = true;\n",
              "\n",
              "  if (!files) {\n",
              "    return {\n",
              "      response: {\n",
              "        action: 'complete',\n",
              "      }\n",
              "    };\n",
              "  }\n",
              "\n",
              "  for (const file of files) {\n",
              "    const li = document.createElement('li');\n",
              "    li.append(span(file.name, {fontWeight: 'bold'}));\n",
              "    li.append(span(\n",
              "        `(${file.type || 'n/a'}) - ${file.size} bytes, ` +\n",
              "        `last modified: ${\n",
              "            file.lastModifiedDate ? file.lastModifiedDate.toLocaleDateString() :\n",
              "                                    'n/a'} - `));\n",
              "    const percent = span('0% done');\n",
              "    li.appendChild(percent);\n",
              "\n",
              "    outputElement.appendChild(li);\n",
              "\n",
              "    const fileDataPromise = new Promise((resolve) => {\n",
              "      const reader = new FileReader();\n",
              "      reader.onload = (e) => {\n",
              "        resolve(e.target.result);\n",
              "      };\n",
              "      reader.readAsArrayBuffer(file);\n",
              "    });\n",
              "    // Wait for the data to be ready.\n",
              "    let fileData = yield {\n",
              "      promise: fileDataPromise,\n",
              "      response: {\n",
              "        action: 'continue',\n",
              "      }\n",
              "    };\n",
              "\n",
              "    // Use a chunked sending to avoid message size limits. See b/62115660.\n",
              "    let position = 0;\n",
              "    do {\n",
              "      const length = Math.min(fileData.byteLength - position, MAX_PAYLOAD_SIZE);\n",
              "      const chunk = new Uint8Array(fileData, position, length);\n",
              "      position += length;\n",
              "\n",
              "      const base64 = btoa(String.fromCharCode.apply(null, chunk));\n",
              "      yield {\n",
              "        response: {\n",
              "          action: 'append',\n",
              "          file: file.name,\n",
              "          data: base64,\n",
              "        },\n",
              "      };\n",
              "\n",
              "      let percentDone = fileData.byteLength === 0 ?\n",
              "          100 :\n",
              "          Math.round((position / fileData.byteLength) * 100);\n",
              "      percent.textContent = `${percentDone}% done`;\n",
              "\n",
              "    } while (position < fileData.byteLength);\n",
              "  }\n",
              "\n",
              "  // All done.\n",
              "  yield {\n",
              "    response: {\n",
              "      action: 'complete',\n",
              "    }\n",
              "  };\n",
              "}\n",
              "\n",
              "scope.google = scope.google || {};\n",
              "scope.google.colab = scope.google.colab || {};\n",
              "scope.google.colab._files = {\n",
              "  _uploadFiles,\n",
              "  _uploadFilesContinue,\n",
              "};\n",
              "})(self);\n",
              "</script> "
            ]
          },
          "metadata": {}
        }
      ]
    },
    {
      "cell_type": "markdown",
      "source": [
        "### **Visualización de las imagenes que subimos**"
      ],
      "metadata": {
        "id": "xL9VcEsRiQj6"
      }
    },
    {
      "cell_type": "code",
      "source": [
        "#Cargar imagen de OpenCV\n",
        "image = cv2.imread(image_paths[0]) # Podemos cambiar la imagen si cambiamos el indice\n",
        "image = cv2.cvtColor(image, cv2.COLOR_BGR2RGB)\n",
        "plt.imshow(image)\n",
        "plt.axis(\"off\")\n",
        "plt.title(\"Source Image\")\n",
        "plt.show()"
      ],
      "metadata": {
        "id": "sWvMzVGAjlsZ"
      },
      "execution_count": null,
      "outputs": []
    },
    {
      "cell_type": "markdown",
      "source": [
        "## <font color='#00FFFF'> **1. Clustering** </font>"
      ],
      "metadata": {
        "id": "ACictwnCig0-"
      }
    },
    {
      "cell_type": "markdown",
      "source": [
        "**K-Means** es un algoritmo de agrupamiento iterativo que busca particionar los datos (en este caso, los píxeles) en `k` clústeres, minimizando la variación dentro de cada clúster.\n",
        "\n",
        "El Objetico es minimizar la suma de distancias cuadradas entre los puntos y sus centroides:\n",
        "\n",
        "$$\n",
        "J = \\sum_{i=1}^{k} \\sum_{x \\in C_i} \\|x - \\mu_i\\|^2\n",
        "$$\n",
        "\n",
        "Donde:\n",
        "- $C_i$ es el conjunto de puntos asignados al clúster $i$\n",
        "- $\\mu_i$ es el centroide del clúster $i$\n",
        "- $x $ es un vector RGB de un píxel\n",
        "\n",
        "El algoritmo lo que hace es:\n",
        "1. Inicializar `k` centroides (puede ser `random` o usando `k-means++`)\n",
        "2. Asignar cada punto al centroide más cercano (mínima distancia euclidiana)\n",
        "3. Recalcular los centroides como la media de los puntos asignados\n",
        "4. Repetir pasos 2 y 3 hasta que los centroides no cambien significativamente\n",
        "\n"
      ],
      "metadata": {
        "id": "tVaBSFl-7WVK"
      }
    },
    {
      "cell_type": "code",
      "source": [
        "flat_image = image.reshape((-1, 3)) # Hace el flatten de cada unoo delos canales\n",
        "\n",
        "k = 12 # Número de clústeres0\n",
        "kmeans = KMeans(n_clusters=k,init='k-means++', max_iter=100, tol=0.1, random_state=42)\n",
        "kmeans.fit(flat_image)\n",
        "labels = kmeans.labels_\n",
        "cluster_centers = kmeans.cluster_centers_\n",
        "segmented_img = cluster_centers[labels].reshape(image.shape).astype(np.uint8)\n",
        "\n",
        "# Visualizamos\n",
        "labels_2d = labels.reshape((image.shape[0], image.shape[1]))\n",
        "boundaries = find_boundaries(labels_2d, mode='outer')\n",
        "segmented_with_borders = segmented_img.copy()\n",
        "segmented_with_borders[boundaries] = co\n",
        "plt.figure(figsize=(10,5))\n",
        "plt.subplot(1,2,1); plt.imshow(image); plt.title('Original'); plt.axis('off')\n",
        "plt.subplot(1,2,2); plt.imshow(segmented_with_borders); plt.title(f'K-Means (k={k})'); plt.axis('off')\n",
        "plt.tight_layout()\n",
        "plt.show()"
      ],
      "metadata": {
        "id": "goG-xuazkmMW"
      },
      "execution_count": null,
      "outputs": []
    },
    {
      "cell_type": "markdown",
      "source": [],
      "metadata": {
        "id": "D7Chd6MubOKr"
      }
    },
    {
      "cell_type": "markdown",
      "source": [
        "## <font color='#00FFFF'> **2. Mean-shift** </font>"
      ],
      "metadata": {
        "id": "EvOthr5blEQQ"
      }
    },
    {
      "cell_type": "markdown",
      "source": [
        "**Mean-Shift** es un algoritmo de agrupamiento basado en modos de densidad: busca los picos en la distribución de datos sin necesidad de definir `k`.\n",
        "\n",
        "La idea es mover cada punto hacia la región de mayor densidad local en el espacio de características (en este caso, RGB).\n",
        "\n",
        "$$\n",
        "x^{(t+1)} = \\frac{\\sum_{i} x_i \\cdot K\\left(\\frac{\\|x_i - x^{(t)}\\|^2}{h^2}\\right)}{\\sum_{i} K\\left(\\frac{\\|x_i - x^{(t)}\\|^2}{h^2}\\right)}\n",
        "$$\n",
        "\n",
        "Donde:\n",
        "- $ x^{(t)} $ es la posición actual\n",
        "- $ x_i$ vecinos de $x^{(t)}$\n",
        "- $K$ es un kernel (comúnmente Gaussiano)\n",
        "- $ h $ es el parámetro de **bandwidth** (ancho de banda, que tantos pixeles se agrupan en una zona) que controla el tamaño de la ventana\n",
        "\n",
        "El algoritmo lo que hace es:\n",
        "1. Inicializar cada punto como un centro candidato\n",
        "2. Iterar sobre cada punto y moverlo hacia la media ponderada de sus vecinos\n",
        "3. Agrupar puntos que convergen al mismo modo"
      ],
      "metadata": {
        "id": "7VjS_nV9AukD"
      }
    },
    {
      "cell_type": "code",
      "source": [
        "flat_image = image.reshape((-1, 3))\n",
        "\n",
        "bandwidth = estimate_bandwidth(flat_image, quantile=0.1, n_samples=500) #Cuartil que tan grande sea mi cluster\n",
        "ms = MeanShift(bandwidth=bandwidth, bin_seeding=True)\n",
        "ms.fit(flat_image)\n",
        "labels = ms.labels_\n",
        "cluster_centers = ms.cluster_centers_\n",
        "segmented_img = cluster_centers[labels].reshape(image.shape).astype(np.uint8)\n",
        "\n",
        "\n",
        "# Visualizamos\n",
        "labels_2d = labels.reshape((image.shape[0], image.shape[1]))\n",
        "boundaries = find_boundaries(labels_2d, mode='thick')\n",
        "segmented_with_borders = segmented_img.copy()\n",
        "segmented_with_borders[boundaries] = co\n",
        "plt.figure(figsize=(10,5))\n",
        "plt.subplot(1,2,1); plt.imshow(image); plt.title('Original')\n",
        "plt.axis('off')\n",
        "plt.subplot(1,2,2); plt.imshow(segmented_with_borders)\n",
        "plt.title(f'Mean-Shift (bandwidth = {bandwidth:.1f})')\n",
        "plt.axis('off')\n",
        "plt.tight_layout()\n",
        "plt.show()"
      ],
      "metadata": {
        "id": "iUaVMP0Kj7VY"
      },
      "execution_count": null,
      "outputs": []
    },
    {
      "cell_type": "markdown",
      "source": [
        "## <font color='#00FFFF'> **3. SLIC (Simple Linear Iterative Clustering)** </font>"
      ],
      "metadata": {
        "id": "fLxj9AmKlYXG"
      }
    },
    {
      "cell_type": "markdown",
      "source": [
        "**SLIC** genera superpíxeles usando un algoritmo similar a K-Means, pero en un espacio 5D (color + posición). Es eficiente y respeta bien los bordes.\n",
        "\n",
        "Cada píxel se representa como:\n",
        "\n",
        "$$[l, a, b, x, y]$$\n",
        "\n",
        "Donde:\n",
        "- $( l, a, b )$ son componentes del espacio de color CIELAB (perceptualmente uniforme)\n",
        "- $( x, y )$ son coordenadas espaciales\n",
        "\n",
        "El algoritmo calcula la distancia de la forma:\n",
        "$$\n",
        "D_s = d_{lab} + \\frac{m}{S} d_{xy}\n",
        "$$\n",
        "\n",
        "$$\n",
        "S = \\sqrt{\\frac{N}{K}}\n",
        "$$\n",
        "\n",
        "\n",
        "Donde:\n",
        "- $d_{lab}$: distancia euclidiana en color\n",
        "- $ d_{xy}$: distancia espacial\n",
        "- $m$: Es un parámetro de ponderación que controla la importancia relativa entre el color y el espacio. Valores grandes de $m$ hacen que la segmentación se enfoque más en la proximidad espacial (superpíxeles más compactos), mientras que valores pequeños la hacen más sensible a los cambios de color.\n",
        "- $N$: es el número total de píxeles en la imagen\n",
        "- $K$: es el número de superpíxeles deseado\n",
        "\n",
        "el proceso que se sigue es:\n",
        "1. Inicializar centroides en una cuadrícula regular\n",
        "2. Para cada píxel en una vecindad local, asignar al centroide más cercano según `D`\n",
        "3. Recalcular centroides\n",
        "4. Repetir hasta convergencia\n"
      ],
      "metadata": {
        "id": "R1r28-KXItz-"
      }
    },
    {
      "cell_type": "code",
      "source": [
        "K=100\n",
        "m=10 #VAriación de 0 a 20 para darle importancia a la posición\n",
        "segments_slic = slic(image, n_segments=K, compactness=m)\n",
        "\n",
        "# Visualizamos el resultado\n",
        "fig, axes = plt.subplots(1, 2, figsize=(10, 5));\n",
        "axes[0].imshow(image);\n",
        "axes[0].axis(\"off\")\n",
        "axes[0].set_title(\"Imagen Original\")\n",
        "axes[1].imshow(mark_boundaries(image, segments_slic, color=1));\n",
        "axes[1].axis(\"off\")\n",
        "axes[1].set_title(f\"SLIC ({len(np.unique(segments_slic))} superpixles)\")\n",
        "plt.tight_layout()\n",
        "plt.show()"
      ],
      "metadata": {
        "id": "5rFi9ExQl3a1"
      },
      "execution_count": null,
      "outputs": []
    },
    {
      "cell_type": "markdown",
      "source": [
        "## <font color='#00FFFF'> **4. Graph-based** </font>"
      ],
      "metadata": {
        "id": "uayisoeatr5E"
      }
    },
    {
      "cell_type": "markdown",
      "source": [
        "El algoritmo de **Felzenszwalb-Huttenlocher** modela la imagen como un grafo, donde los nodos son píxeles y las aristas conectan píxeles vecinos con pesos basados en la diferencia de color.\n",
        "\n",
        "\n",
        "La idea es segmentar la imagen maximizando la homogeneidad dentro de las regiones y los contrastes en los bordes.\n",
        "\n",
        "Cada peso lo definimos como:\n",
        "$$\n",
        "w(u, v) = \\|I(u) - I(v)\\|\n",
        "$$\n",
        "\n",
        "Donde:\n",
        "- $I(u), I(v)$: intensidad o color de los píxeles $u$ y $v$\n",
        "\n",
        "Se unen regiones $A$ y $B$ si:\n",
        "\n",
        "$$\n",
        "w(A, B) \\leq \\min(\\text{Int}(A) + \\tau(A), \\text{Int}(B) + \\tau(B))\n",
        "$$\n",
        "$$\n",
        "$$\n",
        "\n",
        "$$ \\tau(A) = k / |A| $$\n",
        "Donde:\n",
        "- $ \\text{Int}(A) $: variación interna de A\n",
        "- $\\tau(A)$ : función que penaliza regiones pequeñas (k es un parámetro de escala)\n",
        "\n",
        "El proceso se realiza como:\n",
        "1. Crear grafo con aristas entre píxeles vecinos\n",
        "2. Ordenar aristas por peso\n",
        "3. Unir componentes si cumplen el criterio de umbral\n",
        "4. Opcionalmente eliminar regiones pequeñas"
      ],
      "metadata": {
        "id": "5A_vyuUyPduw"
      }
    },
    {
      "cell_type": "code",
      "source": [
        "k=500\n",
        "r=30 #Que sufucientemente grande va a ser cada cluster\n",
        "segments_fz = felzenszwalb(image, scale=k, min_size=r)\n",
        "\n",
        "fig, ax = plt.subplots(1, 2, figsize=(10, 5))\n",
        "ax[0].imshow(image)\n",
        "ax[0].set_title(\"Imagen Original\")\n",
        "ax[1].imshow(mark_boundaries(image, segments_fz, color=1))\n",
        "ax[1].set_title(f\"Felzenszwalb\")\n",
        "for a in ax.ravel():\n",
        "    a.set_axis_off()\n",
        "plt.tight_layout()\n",
        "plt.show()"
      ],
      "metadata": {
        "id": "cgy6czcC--np",
        "collapsed": true
      },
      "execution_count": null,
      "outputs": []
    },
    {
      "cell_type": "markdown",
      "source": [
        "## <font color='#00FFFF'> **Bibliografía** </font>"
      ],
      "metadata": {
        "id": "ZWPEIy2BwAcc"
      }
    },
    {
      "cell_type": "markdown",
      "source": [
        "(N.d.). KDnuggets. Retrieved May 4, 2025, from https://www.kdnuggets.com/2019/08/introduction-image-segmentation-k-means-clustering.html\n",
        "\n",
        "Comaniciu, D., & Meer, P. (2002). Mean shift: A robust approach toward feature space analysis. IEEE Transactions on pattern analysis and machine intelligence, 24(5), 603-619.\n",
        "\n",
        "Felzenszwalb, P. F., & Huttenlocher, D. P. (2004). Efficient graph-based image segmentation. International journal of computer vision, 59, 167-181.\n",
        "\n",
        "Achanta, R., Shaji, A., Smith, K., Lucchi, A., Fua, P., & Süsstrunk, S. (2010). Slic superpixels.\n",
        "\n",
        "GeeksforGeeks. (2024, July 10). Image segmentation using mean shift clustering. GeeksforGeeks. https://www.geeksforgeeks.org/image-segmentation-using-mean-shift-clustering/"
      ],
      "metadata": {
        "id": "Yf2Fo7Qiy1mD"
      }
    }
  ]
}